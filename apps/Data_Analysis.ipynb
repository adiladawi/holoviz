{
 "cells": [
  {
   "cell_type": "code",
   "execution_count": null,
   "metadata": {
    "slideshow": {
     "slide_type": "skip"
    },
    "tags": [
     "hide_output"
    ]
   },
   "outputs": [],
   "source": [
    "import numpy as np\n",
    "import pandas as pd\n",
    "from functools import partial\n",
    "import glob\n",
    "# from geopy.geocoders import Nominatim\n",
    "# from geopy.extra.rate_limiter import RateLimiter\n",
    "# from geopy import Point\n",
    "from geopy import distance\n",
    "from datetime import date, datetime\n",
    "# from pymongo import MongoClient\n",
    "from tqdm.auto import tqdm\n",
    "from funcy import decorator\n",
    "import holoviews as hv\n",
    "import panel as pn\n",
    "from configparser import ConfigParser\n",
    "import plotly.graph_objs as go\n",
    "import asyncio\n",
    "import asyncpg\n",
    "import aiosql\n",
    "import nest_asyncio\n",
    "import gc\n",
    "import matplotlib.pyplot as plt\n",
    "from bokeh.models import HoverTool\n",
    "from plotly_calplot import calplot\n",
    "import geopandas as gpd\n",
    "import shapely\n",
    "# import leafmap.foliumap as leafmap\n",
    "# import leafmap\n",
    "import folium\n",
    "shapely.speedups.disable()\n",
    "gc.enable()\n",
    "nest_asyncio.apply()\n",
    "hv.extension('bokeh', 'plotly',logo=False)\n",
    "pn.extension('ipywidgets')"
   ]
  },
  {
   "cell_type": "code",
   "execution_count": null,
   "metadata": {
    "slideshow": {
     "slide_type": "skip"
    },
    "tags": []
   },
   "outputs": [],
   "source": [
    "input_path = 'data/cyclistic/raw'\n",
    "files_format = \"csv\"\n",
    "original_data_combined = \"data/cyclistic/cyclistic_last_12_months_trips.csv\"\n",
    "processed_data = \"data/cyclistic/cyclistic_last_12_months_trips_processed.csv\"\n",
    "original_data_table_name = 'cyclistic'\n",
    "temp_csv_postgres = \"'/tmp/cyclistic.csv'\"\n",
    "driver = \"asyncpg\"\n",
    "temp_csv = '/tmp/cyclistic.csv'\n",
    "sql_path = \"https://raw.githubusercontent.com/adiladawi/holoviz/main/data/cyclistic/aiosql_cyclistic.sql\"\n",
    "reversed_gps_data = 'data/cyclistic/cyclistic_last_12_months_trips_end_reveresed_gps.csv'\n",
    "sample_data = \"https://raw.githubusercontent.com/adiladawi/holoviz/main/data/cyclistic/sample.csv\"\n",
    "processed_df_path = 'https://raw.githubusercontent.com/adiladawi/holoviz/main/data/cyclistic/cyclistic_processed.csv'\n",
    "chicago_map = 'https://raw.githubusercontent.com/adiladawi/holoviz/main/data/cyclistic/chicago.geojson'\n",
    "log_file = \"logs/logfile.txt\"\n",
    "slides_file = 'https://raw.githubusercontent.com/adiladawi/holoviz/main/assets/Data_Analysis.slides.html'"
   ]
  },
  {
   "cell_type": "markdown",
   "metadata": {
    "slideshow": {
     "slide_type": "skip"
    },
    "tags": []
   },
   "source": [
    "# Analysis Section"
   ]
  },
  {
   "cell_type": "markdown",
   "metadata": {
    "slideshow": {
     "slide_type": "skip"
    },
    "tags": []
   },
   "source": [
    "### Introduction\n",
    "In 2016, Cyclistic launched a successful bike-share offering. Since then, the program has grown to a fleet of 5,824 bicycles that are geotracked and locked into a network of 692 stations across Chicago. The bikes can be unlocked from one station and returned to any other station in the system anytime. Cyclistic sets itself apart by also offering reclining bikes, hand tricycles, and cargo bikes, making bike-share more inclusive to people with disabilities and riders who can’t use a standard two-wheeled bike. The majority of riders opt for traditional bikes; about 8% of riders use the assistive options. Cyclistic users are more likely to ride for leisure, but about 30% use them to commute to work each day.\n",
    "\n",
    "Until now, Cyclistic’s marketing strategy relied on building general awareness and appealing to broad consumer segments. One approach that helped make these things possible was the flexibility of its pricing plans: single-ride passes, full-day passes, and annual memberships. Customers who purchase single-ride or full-day passes are referred to as casual riders. Customers who purchase annual memberships are Cyclistic members. Cyclistic’s finance analysts have concluded that annual members are much more profitable than casual riders. Although the pricing flexibility helps Cyclistic attract more customers, The Director of Marketing Moreno believes that maximizing the number of annual members will be key to future growth. Rather than creating a marketing campaign that targets all-new customers, Moreno believes there is a very good chance to convert casual riders into members. She notes that casual riders are already aware of the Cyclistic program and have chosen Cyclistic for their mobility needs.\n",
    "\n",
    "Moreno has set a clear goal: Design marketing strategies aimed at converting casual riders into annual members. In order to do that, however, the marketing analyst team needs to better understand:\n",
    "\n",
    "1- how annual members and casual riders differ\n",
    "\n",
    "2- why casual riders would buy a membership\n",
    "\n",
    "3- how digital media could affect their marketing tactics\n",
    "\n",
    "Moreno and her team are interested in analyzing the Cyclistic historical bike trip data to identify trends.\n",
    "Your are a junior data analyst working in the marketing analyst team. **Moreno has assigned you the first question to answer: How do annual members and casual riders use Cyclistic bikes differently?** To answer that, you are going to conduct this data analysis. From the analysis insights, marketing team will design a new marketing strategy to convert casual riders into annual members. But first, Cyclistic executives must approve marketing team recommendations, so the analysis must be backed up with compelling data insights and professional data visualizations"
   ]
  },
  {
   "cell_type": "markdown",
   "metadata": {
    "jp-MarkdownHeadingCollapsed": true,
    "slideshow": {
     "slide_type": "skip"
    },
    "tags": []
   },
   "source": [
    "### Table of Contents  \n",
    "<div class=\"alert alert-block alert-info\" style=\"margin-top: 20px\">\n",
    "\n",
    "<font size = 3>\n",
    "    \n",
    "1. <a href=\"#section1\">Main Objective</a>  \n",
    "2. <a href=\"#section2\">Data Acquisition</a>  \n",
    "3. <a href=\"#section3\">Data Processing</a>  \n",
    "4. <a href=\"#section4\">Exploratory Data Analysis</a>  \n",
    "5. <a href=\"#section5\">Key Findings</a>  \n",
    "6. <a href=\"#section6\">Recommendations</a>  \n",
    "\n",
    "</font>\n",
    "</div>"
   ]
  },
  {
   "cell_type": "markdown",
   "metadata": {
    "slideshow": {
     "slide_type": "skip"
    },
    "tags": []
   },
   "source": [
    "### Main Objective\n",
    "\n",
    "| Item |Defintion|\n",
    "| :-- | :-- |\n",
    "| Category Of Data Analysis | Descriptive | \n",
    "| Business Task Need To Be Addressed| Identify how annual members and casual riders use cyclistic bikes differently | \n",
    "| Goal Of The Business Task | Help marketing team in designing marketing strategies aimed at converting casual riders into annual members | \n",
    "| KPI | Members Conversion Rate | \n",
    "| Key Stakeholders | Cyclistic Executive Team, Director of Marketing (Lily Moreno) and Marketing Analytics Team | "
   ]
  },
  {
   "cell_type": "markdown",
   "metadata": {
    "jp-MarkdownHeadingCollapsed": true,
    "slideshow": {
     "slide_type": "skip"
    },
    "tags": []
   },
   "source": [
    "### Data Acquisition\n",
    "\n",
    "\n",
    "Cyclistic’s historical trip data has been made available by [Motivate International Inc](https://www.motivateco.com/). under this [license](https://www.divvybikes.com/data-license-agreement)\n",
    "\n",
    "[Data Source](https://divvy-tripdata.s3.amazonaws.com/index.html)\n",
    "\n",
    "The portion of the data that is required to be analyzed is the previous 12 months of Cyclistic trip data Data. the information resides in ZIP files, so they need extracting first. the resulting is 12 CSV files format with 13 columns in each one,\n",
    "\n",
    "| No. | Column | Description| Data Type | Category|\n",
    "| :-- | :-- | :-- | :-- | :-- |\n",
    "| 1 | Ride_Id | Customer Unique ID | String | Nominal |\n",
    "| 2 | Rideable_Type | The type of bike customer used for the trip | String | Nominal |\n",
    "| 3 | Started_At | The date and time when the trip started | DateTime | Discrete |\n",
    "| 4 | Ended_At | The date and time when the trip ended | DateTime | Discrete |\n",
    "| 5 | Start_Station_Name | Name of the station where the trip started | String | Nominal |\n",
    "| 6 | Start_Station_Id | ID of the station where the trip started | String | Nominal |\n",
    "| 7 | End_Station_Name | Name of the station where the trip ended | String | Nominal |\n",
    "| 8 | End_Station_Id | ID of the station where the trip ended | String | Nominal |\n",
    "| 9 | Start_Lat | Latitude value where the trip have started expressed in decimal degrees | Float | Contiuous |\n",
    "| 10 | Start_Lng | Longitude value where the trip have started expressed in decimal degrees | Float | Contiuous |\n",
    "| 11 | End_Lat | Latitude value where the trip have ended expressed in decimal degrees | Float | Contiuous |\n",
    "| 12 | End_Lng | Longitude value where the trip have ended expressed in decimal degrees | Float | Contiuous |\n",
    "| 13 | Member_Casual | Classification of Customers: Customers who purchase single-ride or full-day passes are referred to as casual. Customers who purchase annual memberships referred to as members  | String | Nominal |\n",
    "\n",
    "\n",
    "\n",
    "\n",
    "Since the dataset is made public by a known corporation and has a license of how we can use it, we can safely say the data is credible.\n",
    "\n",
    "The Longitude and latitude information have been extracted, enriched with Suburb information, and provided as separate CSV files to join them with original data later on.\n",
    "\n",
    "Also, map file will be downloaded from the [City of Chigaco Website](https://data.cityofchicago.org/api/geospatial/cauq-8yn6?method=export&format=GeoJSON), which will help in producing geographic visualization"
   ]
  },
  {
   "cell_type": "markdown",
   "metadata": {
    "slideshow": {
     "slide_type": "skip"
    },
    "tags": []
   },
   "source": [
    "### Data Processing"
   ]
  },
  {
   "cell_type": "markdown",
   "metadata": {
    "slideshow": {
     "slide_type": "skip"
    },
    "tags": []
   },
   "source": [
    "Defining functions to process the data"
   ]
  },
  {
   "cell_type": "code",
   "execution_count": null,
   "metadata": {
    "slideshow": {
     "slide_type": "skip"
    },
    "tags": []
   },
   "outputs": [],
   "source": [
    "def log(message):\n",
    "    '''Log function to write the time and custom message to the log file'''\n",
    "    timestamp_format = '%Y-%h-%d-%H:%M:%S'  # Year-Monthname-Day-Hour-Minute-Second\n",
    "    now = datetime.now()  # get current timestamp\n",
    "    timestamp = now.strftime(timestamp_format)\n",
    "    with open(log_file, \"a\") as f:\n",
    "        f.write(timestamp + ',' + message + '\\n')"
   ]
  },
  {
   "cell_type": "code",
   "execution_count": null,
   "metadata": {
    "slideshow": {
     "slide_type": "skip"
    },
    "tags": []
   },
   "outputs": [],
   "source": [
    "log(\"Cyclistic Notebook Execution Started\")"
   ]
  },
  {
   "cell_type": "code",
   "execution_count": null,
   "metadata": {
    "slideshow": {
     "slide_type": "skip"
    },
    "tags": []
   },
   "outputs": [],
   "source": [
    "@decorator\n",
    "def timing_log(call):\n",
    "    '''Log function to write message and the time when certain function started or ended'''\n",
    "    start_time = datetime.now()  # get current timestamp\n",
    "    log('Function ' + call._func.__name__ + ' Started')\n",
    "    result = call()\n",
    "    end_time = datetime.now()\n",
    "    log('Function ' + call._func.__name__ + ' Ended')\n",
    "    duration = end_time - start_time\n",
    "    log('Function ' + call._func.__name__ + ',' + 'took ' + str(duration.seconds) + ' seconds to run')\n",
    "    return result"
   ]
  },
  {
   "cell_type": "code",
   "execution_count": null,
   "metadata": {
    "slideshow": {
     "slide_type": "skip"
    },
    "tags": []
   },
   "outputs": [],
   "source": [
    "@timing_log\n",
    "def extract(file_to_process):\n",
    "    '''Read csv file into Pandas DataFrame'''\n",
    "    dataframe = pd.read_csv(file_to_process)\n",
    "    return dataframe"
   ]
  },
  {
   "cell_type": "code",
   "execution_count": null,
   "metadata": {
    "slideshow": {
     "slide_type": "skip"
    },
    "tags": []
   },
   "outputs": [],
   "source": [
    "@timing_log\n",
    "def combine_from_csv(directory, extension='csv'):\n",
    "    '''Read multiple files under one directory, having the same file type into Pandas DataFrame'''\n",
    "    combined_data = pd.DataFrame()\n",
    "    for file in tqdm(glob.glob(f'{directory}/*.{extension}')):\n",
    "        combined_data = combined_data.append(read_from_csv(file), ignore_index=True)\n",
    "    return combined_data"
   ]
  },
  {
   "cell_type": "code",
   "execution_count": null,
   "metadata": {
    "slideshow": {
     "slide_type": "skip"
    },
    "tags": []
   },
   "outputs": [],
   "source": [
    "@timing_log\n",
    "def extract_dir(*args, **kwargs):\n",
    "    '''Read multiple files under one directory, having the same file type into Pandas DataFrame'''\n",
    "    extracted_data = pd.DataFrame()\n",
    "    extracted_data = extracted_data.append(combine_from_csv(*args, **kwargs))\n",
    "    return extracted_data"
   ]
  },
  {
   "cell_type": "code",
   "execution_count": null,
   "metadata": {
    "slideshow": {
     "slide_type": "skip"
    },
    "tags": []
   },
   "outputs": [],
   "source": [
    "@timing_log\n",
    "def load(data_to_load, targetfile):\n",
    "    '''Write csv file from Pandas DataFrame'''\n",
    "    data_to_load.to_csv(targetfile, index=False)"
   ]
  },
  {
   "cell_type": "code",
   "execution_count": null,
   "metadata": {
    "slideshow": {
     "slide_type": "skip"
    },
    "tags": []
   },
   "outputs": [],
   "source": [
    "log(\"ETL Process Started\")"
   ]
  },
  {
   "cell_type": "markdown",
   "metadata": {
    "execution": {
     "iopub.execute_input": "2021-09-06T23:45:17.11195Z",
     "iopub.status.busy": "2021-09-06T23:45:17.109137Z",
     "iopub.status.idle": "2021-09-06T23:45:17.132941Z"
    },
    "slideshow": {
     "slide_type": "skip"
    },
    "tags": []
   },
   "source": [
    "Extracting The Data"
   ]
  },
  {
   "cell_type": "code",
   "execution_count": null,
   "metadata": {
    "slideshow": {
     "slide_type": "skip"
    },
    "tags": []
   },
   "outputs": [],
   "source": [
    "log(\"Data Extract Phase Started\")\n",
    "df = extract(processed_df_path)\n",
    "log(\"Data Extract Phase Ended\")"
   ]
  },
  {
   "cell_type": "code",
   "execution_count": null,
   "metadata": {
    "slideshow": {
     "slide_type": "skip"
    },
    "tags": []
   },
   "outputs": [],
   "source": [
    "log(\"SQL Queris Loading for Transform Started\")\n",
    "pg_queries = aiosql.from_path(sql_path, driver)\n",
    "log(\"SQL Queris Loading for Transform Ended\")\n",
    "log(\"Reverse Geocoding Data Loading for Transform Started\")\n",
    "reversed_data = extract(reversed_gps_data)\n",
    "log(\"Reverse Geocoding Data Loading for Transform Ended\")"
   ]
  },
  {
   "cell_type": "markdown",
   "metadata": {
    "slideshow": {
     "slide_type": "skip"
    },
    "tags": []
   },
   "source": [
    "previewing the data"
   ]
  },
  {
   "cell_type": "code",
   "execution_count": null,
   "metadata": {
    "slideshow": {
     "slide_type": "skip"
    },
    "tags": []
   },
   "outputs": [],
   "source": [
    "df.tail(n=2)"
   ]
  },
  {
   "cell_type": "markdown",
   "metadata": {
    "slideshow": {
     "slide_type": "skip"
    },
    "tags": []
   },
   "source": [
    "Summary of columns with missing values"
   ]
  },
  {
   "cell_type": "code",
   "execution_count": null,
   "metadata": {
    "slideshow": {
     "slide_type": "skip"
    },
    "tags": []
   },
   "outputs": [],
   "source": [
    "@timing_log\n",
    "def missing_chart(df):\n",
    "    '''Function to draw horizontal bar chart for columns with missing values'''\n",
    "    missing = round((df.isnull().sum() / df.shape[0]) * 100, 2)\n",
    "    missing = missing[missing > 0]  # filtered series\n",
    "    missing = pd.DataFrame({'Column': missing.index, 'Percentage': missing.values})\n",
    "    bar = hv.Bars(missing).sort(by='Percentage').opts(xrotation=35, invert_axes=True)\n",
    "    labels = hv.Labels(missing,  kdims=['Column', 'Percentage'],\n",
    "                       vdims='Percentage').opts(text_font_size='10pt')\n",
    "    return (bar * labels).opts(width=1000)"
   ]
  },
  {
   "cell_type": "code",
   "execution_count": null,
   "metadata": {
    "slideshow": {
     "slide_type": "skip"
    },
    "tags": []
   },
   "outputs": [],
   "source": [
    "# missing_chart(df)"
   ]
  },
  {
   "cell_type": "code",
   "execution_count": null,
   "metadata": {
    "slideshow": {
     "slide_type": "skip"
    },
    "tags": []
   },
   "outputs": [],
   "source": [
    "@timing_log\n",
    "def get_postgres_params(filename='config/config_file.ini', section='postgresql'):\n",
    "    '''Function to read login information from configuration file'''\n",
    "    # create a parser\n",
    "    parser = ConfigParser()\n",
    "    # read config file\n",
    "    parser.read(filename)\n",
    "    # get section, default to postgresql\n",
    "    db_params = {}\n",
    "    if parser.has_section(section):\n",
    "        params = parser.items(section)\n",
    "        for param in params:\n",
    "            db_params[param[0]] = param[1]\n",
    "    return db_params"
   ]
  },
  {
   "cell_type": "code",
   "execution_count": null,
   "metadata": {
    "slideshow": {
     "slide_type": "skip"
    },
    "tags": []
   },
   "outputs": [],
   "source": [
    "@timing_log\n",
    "async def connect_to_postgres():\n",
    "    '''Function to connect to Postgres Database'''\n",
    "    db_params = get_postgres_params()\n",
    "    conn = await asyncpg.connect(**db_params)\n",
    "    return conn"
   ]
  },
  {
   "cell_type": "code",
   "execution_count": null,
   "metadata": {
    "slideshow": {
     "slide_type": "skip"
    },
    "tags": []
   },
   "outputs": [],
   "source": [
    "@timing_log\n",
    "async def write_csv_to_postgres(csv_path, table_name):\n",
    "    '''Function to read csv data into existing Postgres Database table'''\n",
    "    conn = await connect_to_postgres()\n",
    "    await conn.copy_to_table(table_name, source=csv_path, format='csv', delimiter=',', null=\"\", header=1)\n",
    "    await conn.close()"
   ]
  },
  {
   "cell_type": "code",
   "execution_count": null,
   "metadata": {
    "slideshow": {
     "slide_type": "skip"
    },
    "tags": []
   },
   "outputs": [],
   "source": [
    "@timing_log\n",
    "async def write_df_to_postgres(df, table_name):\n",
    "    '''Function to write Pandas DataFrame into Postgres Database table'''\n",
    "    conn = await connect_to_postgres()\n",
    "    table_drop_sql = f\"DROP TABLE IF EXISTS {table_name};\"\n",
    "    await conn.execute(table_drop_sql)\n",
    "    sql_create = pd.io.sql.get_schema(df, table_name)\n",
    "    await conn.execute(sql_create)\n",
    "    tempcsv = f'{table_name}.csv'\n",
    "    df.to_csv(tempcsv, index=False)\n",
    "    await conn.copy_to_table(table_name, source=tempcsv, format='csv', delimiter=',', null=\"\", header=1)\n",
    "    await conn.close()"
   ]
  },
  {
   "cell_type": "code",
   "execution_count": null,
   "metadata": {
    "slideshow": {
     "slide_type": "skip"
    },
    "tags": []
   },
   "outputs": [],
   "source": [
    "@timing_log\n",
    "async def ussi():\n",
    "    '''Helper function to update the missing data'''\n",
    "    swui = df[df['start_station_id'].notna()]\n",
    "    swui = df.groupby(['start_station_id', 'start_lat', 'start_lng']).size().reset_index(name='count')\n",
    "    swmi = df[df['start_station_id'].isna()]\n",
    "    swmi = df.groupby(['start_station_id', 'start_lat', 'start_lng']).size().reset_index(name='count')\n",
    "    found_s_id_df = pd.merge(swui, swmi, how='left', on=[\"start_lat\", \"start_lng\"])\n",
    "    found_s_id_df = found_s_id_df[found_s_id_df['count_y'] > 0]\n",
    "    found_s_id_df = found_s_id_df[[\"start_lat\", \"start_lng\", \"start_station_id_x\"]]\n",
    "    asyncio.get_event_loop().run_until_complete(write_df_to_postgres(found_s_id_df, 'temp_tbl'))\n",
    "    conn = await connect_to_postgres()\n",
    "    await pg_queries.ussi(conn)\n",
    "    await conn.close()\n",
    "    del swui, swmi, found_s_id_df"
   ]
  },
  {
   "cell_type": "code",
   "execution_count": null,
   "metadata": {
    "slideshow": {
     "slide_type": "skip"
    },
    "tags": []
   },
   "outputs": [],
   "source": [
    "@timing_log\n",
    "async def ussi2():\n",
    "    '''Helper function to update the missing data'''\n",
    "    swui = df[(df['start_station_id'].notna()) & (df[\"start_station_name\"].notna())]\n",
    "    swui = df.groupby(['start_station_id', 'start_station_name']).size().reset_index(name='count')\n",
    "    swmi = df[df['start_station_id'].isna() & (df[\"start_station_name\"].notna())]\n",
    "    swmi = df.groupby(['start_station_id', 'start_station_name']).size().reset_index(name='count')\n",
    "    found_s_id_df = pd.merge(swui, swmi, how='left', on=[\"start_station_name\"])\n",
    "    found_s_id_df = found_s_id_df[found_s_id_df['count_y'] > 0]\n",
    "    found_s_id_df = found_s_id_df[[\"start_station_name\", \"start_station_id_x\"]]\n",
    "    asyncio.get_event_loop().run_until_complete(write_df_to_postgres(found_s_id_df, 'temp_tbl'))\n",
    "    conn = await connect_to_postgres()\n",
    "    await pg_queries.ussi2(conn)\n",
    "    await conn.close()\n",
    "    del swui, swmi, found_s_id_df"
   ]
  },
  {
   "cell_type": "code",
   "execution_count": null,
   "metadata": {
    "slideshow": {
     "slide_type": "skip"
    },
    "tags": []
   },
   "outputs": [],
   "source": [
    "@timing_log\n",
    "async def uesi():\n",
    "    '''Helper function to update the missing data'''\n",
    "    swui = df[df['end_station_id'].notna()]\n",
    "    swui = df.groupby(['end_station_id', 'end_lat', 'end_lng']).size().reset_index(name='count')\n",
    "    swmi = df[df['end_station_id'].isna()]\n",
    "    swmi = df.groupby(['end_station_id', 'end_lat', 'end_lng']).size().reset_index(name='count')\n",
    "    found_s_id_df = pd.merge(swui, swmi, how='left', on=[\"end_lat\", \"end_lng\"])\n",
    "    found_s_id_df = found_s_id_df[found_s_id_df['count_y'] > 0]\n",
    "    found_s_id_df = found_s_id_df[[\"end_lat\", \"end_lng\", \"end_station_id_x\"]]\n",
    "    asyncio.get_event_loop().run_until_complete(write_df_to_postgres(found_s_id_df, 'temp_tbl'))\n",
    "    conn = await connect_to_postgres()\n",
    "    await pg_queries.uesi(conn)\n",
    "    await conn.close()\n",
    "    del swui, swmi, found_s_id_df"
   ]
  },
  {
   "cell_type": "code",
   "execution_count": null,
   "metadata": {
    "slideshow": {
     "slide_type": "skip"
    },
    "tags": []
   },
   "outputs": [],
   "source": [
    "@timing_log\n",
    "async def uesi2():\n",
    "    '''Helper function to update the missing data'''\n",
    "    swui = df[(df['end_station_id'].notna()) & (df[\"end_station_name\"].notna())]\n",
    "    swui = df.groupby(['end_station_id', 'end_station_name']).size().reset_index(name='count')\n",
    "    swmi = df[df['end_station_id'].isna() & (df[\"end_station_name\"].notna())]\n",
    "    swmi = df.groupby(['end_station_id', 'end_station_name']).size().reset_index(name='count')\n",
    "    found_s_id_df = pd.merge(swui, swmi, how='left', on=[\"end_station_name\"])\n",
    "    found_s_id_df = found_s_id_df[found_s_id_df['count_y'] > 0]\n",
    "    found_s_id_df = found_s_id_df[[\"end_station_name\", \"end_station_id_x\"]]\n",
    "    asyncio.get_event_loop().run_until_complete(write_df_to_postgres(found_s_id_df, 'temp_tbl'))\n",
    "    conn = await connect_to_postgres()\n",
    "    await pg_queries.uesi2(conn)\n",
    "    await conn.close()\n",
    "    del swui, swmi, found_s_id_df"
   ]
  },
  {
   "cell_type": "code",
   "execution_count": null,
   "metadata": {
    "slideshow": {
     "slide_type": "skip"
    },
    "tags": []
   },
   "outputs": [],
   "source": [
    "@timing_log\n",
    "async def ussn():\n",
    "    '''Helper function to update the missing data'''\n",
    "    swui = df[(df[\"start_station_name\"].notna()) & (df['start_station_id'].notna())]\n",
    "    swui = df.groupby(['start_station_name', 'start_station_id']).size().reset_index(name='count')\n",
    "    swmi = df[df[\"start_station_name\"].isna() & (df['start_station_id'].notna())]\n",
    "    swmi = df.groupby(['start_station_name', 'start_station_id',]).size().reset_index(name='count')\n",
    "    found_s_id_df = pd.merge(swui, swmi, how='left', on=['start_station_id'])\n",
    "    found_s_id_df = found_s_id_df[found_s_id_df['count_y'] > 0]\n",
    "    found_s_id_df = found_s_id_df[[\"start_station_name_x\", \"start_station_id\"]]\n",
    "    asyncio.get_event_loop().run_until_complete(write_df_to_postgres(found_s_id_df, 'temp_tbl'))\n",
    "    conn = await connect_to_postgres()\n",
    "    await pg_queries.ussn(conn)\n",
    "    await conn.close()\n",
    "    del swui, swmi, found_s_id_df"
   ]
  },
  {
   "cell_type": "code",
   "execution_count": null,
   "metadata": {
    "slideshow": {
     "slide_type": "skip"
    },
    "tags": []
   },
   "outputs": [],
   "source": [
    "@timing_log\n",
    "async def uesn():\n",
    "    '''Helper function to update the missing data'''\n",
    "    swui = df[(df[\"end_station_name\"].notna()) & (df['end_station_id'].notna())]\n",
    "    swui = df.groupby(['end_station_name', 'end_station_id']).size().reset_index(name='count')\n",
    "    swmi = df[df[\"end_station_name\"].isna() & (df['end_station_id'].notna())]\n",
    "    swmi = df.groupby(['end_station_name', 'end_station_id',]).size().reset_index(name='count')\n",
    "    found_s_id_df = pd.merge(swui, swmi, how='left', on=['end_station_id'])\n",
    "    found_s_id_df = found_s_id_df[found_s_id_df['count_y'] > 0]\n",
    "    found_s_id_df = found_s_id_df[[\"end_station_name_x\", \"end_station_id\"]]\n",
    "    asyncio.get_event_loop().run_until_complete(write_df_to_postgres(found_s_id_df, 'temp_tbl'))\n",
    "    conn = await connect_to_postgres()\n",
    "    await pg_queries.uesn(conn)\n",
    "    await conn.close()\n",
    "    del swui, swmi, found_s_id_df"
   ]
  },
  {
   "cell_type": "code",
   "execution_count": null,
   "metadata": {
    "slideshow": {
     "slide_type": "skip"
    },
    "tags": []
   },
   "outputs": [],
   "source": [
    "@timing_log\n",
    "def update_id_and_name():\n",
    "    '''Helper function to update the missing data'''\n",
    "    asyncio.get_event_loop().run_until_complete(ussi())\n",
    "    asyncio.get_event_loop().run_until_complete(ussi2())\n",
    "    asyncio.get_event_loop().run_until_complete(uesi())\n",
    "    asyncio.get_event_loop().run_until_complete(uesi2())\n",
    "    asyncio.get_event_loop().run_until_complete(ussn())\n",
    "    asyncio.get_event_loop().run_until_complete(uesn())"
   ]
  },
  {
   "cell_type": "code",
   "execution_count": null,
   "metadata": {
    "slideshow": {
     "slide_type": "skip"
    },
    "tags": []
   },
   "outputs": [],
   "source": [
    "@timing_log\n",
    "def append_sql_query():\n",
    "    '''Helper function to help write SQL query with qoutation marks in it to SQL script file'''\n",
    "    query = f\"COPY {original_data_table_name} TO {temp_csv_postgres} WITH (FORMAT CSV, HEADER);\"\n",
    "    string = f\"\"\"\n",
    "-- name: copy_table_to_csv#\n",
    "-- copy postgres table to csv file\n",
    "{query}\n",
    "\"\"\"\n",
    "    with open(sql_path, 'a') as f:\n",
    "        f.write(string)"
   ]
  },
  {
   "cell_type": "code",
   "execution_count": null,
   "metadata": {
    "slideshow": {
     "slide_type": "skip"
    },
    "tags": []
   },
   "outputs": [],
   "source": [
    "@timing_log\n",
    "async def dump_table_to_csv():\n",
    "    '''Function to write Postgres SQL table to csv file'''\n",
    "    conn = await connect_to_postgres()\n",
    "    await pg_queries.copy_table_to_csv(conn)\n",
    "    await conn.close()"
   ]
  },
  {
   "cell_type": "code",
   "execution_count": null,
   "metadata": {
    "slideshow": {
     "slide_type": "skip"
    },
    "tags": []
   },
   "outputs": [],
   "source": [
    "@timing_log\n",
    "def get_season(dates):\n",
    "    '''Function to return the season for list or series of dates'''\n",
    "    WS = date(2016, 12, 15)  # Winter Solstice\n",
    "    SE = date(2016, 3, 15)  # Spring Equinox\n",
    "    SS = date(2016, 6, 15)  # Summer Solstice\n",
    "    FE = date(2016, 9, 15)  # Fall Equinox\n",
    "\n",
    "    # Convert dates from any year to 2016 dates: leap year\n",
    "    dates = [date.replace(year=2016) for date in dates]\n",
    "    seasons = []\n",
    "    for dt in dates:\n",
    "        if (dt.date() >= WS) | (dt.date() < SE):\n",
    "            seasons.append(\"Winter\")\n",
    "        elif (dt.date() >= SE) & (dt.date() < SS):\n",
    "            seasons.append(\"Spring\")\n",
    "        elif (dt.date() >= SS) & (dt.date() < FE):\n",
    "            seasons.append(\"Summer\")\n",
    "        else:\n",
    "            seasons.append(\"Fall\")\n",
    "    return seasons"
   ]
  },
  {
   "cell_type": "code",
   "execution_count": null,
   "metadata": {
    "slideshow": {
     "slide_type": "skip"
    },
    "tags": []
   },
   "outputs": [],
   "source": [
    "@timing_log\n",
    "async def update_suburb():\n",
    "    '''Helper function to update the missing data'''\n",
    "    conn = await connect_to_postgres()\n",
    "    await pg_queries.uss(conn)\n",
    "    await pg_queries.uss2(conn)\n",
    "    await pg_queries.ues(conn)\n",
    "    await pg_queries.ues2(conn)\n",
    "    await conn.close()"
   ]
  },
  {
   "cell_type": "markdown",
   "metadata": {
    "slideshow": {
     "slide_type": "skip"
    },
    "tags": []
   },
   "source": [
    "Transform function"
   ]
  },
  {
   "cell_type": "code",
   "execution_count": null,
   "metadata": {
    "slideshow": {
     "slide_type": "skip"
    },
    "tags": []
   },
   "outputs": [],
   "source": [
    "@timing_log\n",
    "def transform(df):\n",
    "    '''Transform Function in the ETL process, which produce data that error free'''\n",
    "    # uploding dataframe to postgres database\n",
    "    asyncio.get_event_loop().run_until_complete(write_df_to_postgres(df, original_data_table_name))\n",
    "    # Imputating missing data with joins\n",
    "    update_id_and_name()\n",
    "    # adding sql query to the external file to write query with qoutations\n",
    "    append_sql_query()\n",
    "    # reading sql queries from external file\n",
    "    global pg_queries\n",
    "    pg_queries = aiosql.from_path(sql_path, driver)\n",
    "    # writing sql table to csv file\n",
    "    asyncio.get_event_loop().run_until_complete(dump_table_to_csv())\n",
    "    # reading the written csv file\n",
    "    df = extract(temp_csv)\n",
    "    # dropping null values\n",
    "    df = df.dropna()\n",
    "    # dropping duplicates\n",
    "    df = df.drop_duplicates()\n",
    "    # dropping quality rides from data\n",
    "    df = df[df['start_station_name'] != \"HQ QR\"]\n",
    "    # selecting numeric columns\n",
    "    numeric = df.select_dtypes(include=[np.number]).columns\n",
    "    # rounding numeric columns to 4 digits\n",
    "    df[numeric] = np.round(df[numeric], 4)\n",
    "    # creating location columns for reverse geocoding\n",
    "    df['start_point'] = df['start_lat'].astype(str) + ',' + df['start_lng'].astype(str)\n",
    "    df['end_point'] = df['end_lat'].astype(str) + ',' + df['end_lng'].astype(str)\n",
    "    # creating empty columns to be filled with join opration in SQL\n",
    "    df['start_suburb'] = pd.NA\n",
    "    df['end_suburb'] = pd.NA\n",
    "    # reading reversed geocoded data\n",
    "    global reversed_data\n",
    "    # upload dataframes to postgres\n",
    "    asyncio.get_event_loop().run_until_complete(write_df_to_postgres(df, 'cyclistic'))\n",
    "    asyncio.get_event_loop().run_until_complete(write_df_to_postgres(reversed_data, 'reveresed_tbl'))\n",
    "    # performing the join operation in SQL\n",
    "    asyncio.get_event_loop().run_until_complete(update_suburb())\n",
    "    # writing updated sql table to csv file\n",
    "    asyncio.get_event_loop().run_until_complete(dump_table_to_csv())\n",
    "    # reading the written csv file\n",
    "    df = extract(temp_csv)\n",
    "    # dropping null values\n",
    "    df = df.dropna()\n",
    "    # casting columns to the correct type\n",
    "    df[[\"started_at\", \"ended_at\"]] = df[[\"started_at\", \"ended_at\"]].apply(pd.to_datetime)\n",
    "    df['rideable_type'] = df['rideable_type'].astype(\"category\")\n",
    "    df['member_casual'] = df['member_casual'].astype(\"category\")\n",
    "    # enriching data with new columns\n",
    "    df['ride_length_mins'] = (df['ended_at'] - df['started_at']) / pd.Timedelta(minutes=1)\n",
    "    df['ride_distance_km'] = [distance.distance(p1, p2).kilometers for p1, p2 in df[['start_point', 'end_point']].values]\n",
    "    df['ride_speed_kmh'] = df['ride_distance_km'] / (df['ride_length_mins'] / 60)\n",
    "    df['season'] = get_season(df['started_at'])\n",
    "    df['ride_at_weekend'] = [\"Yes\" if day.weekday() < 5 else \"No\" for day in df['started_at']]\n",
    "    df['date'] = df['started_at'].dt.date\n",
    "    df['year_month'] = df['started_at'].dt.strftime('%Y-%m')\n",
    "    df['year_month'] = df['year_month'].astype('category')\n",
    "    bins = [0, 6, 12, 18, 23]\n",
    "    labels = [\"night\", \"morning\", \"afternoon\", \"evening\"]\n",
    "    df['time_of_day'] = pd.cut(df['started_at'].dt.hour, bins=bins, labels=labels, include_lowest=True)\n",
    "    df['time_of_day'] = df['time_of_day'].astype('category')\n",
    "    # casting columns to the correct type and modifying data for spatial join\n",
    "    df['start_suburb'] = df['start_suburb'].astype('str')\n",
    "    df['end_suburb'] = df['end_suburb'].astype('str')\n",
    "    df['start_suburb'] = df['start_suburb'].map(str.upper)\n",
    "    df['end_suburb'] = df['end_suburb'].map(str.upper)\n",
    "    # quality check for the data\n",
    "    df = df[df['ride_length_mins'] > 2]\n",
    "    df = df[df['ride_length_mins'] < 720]\n",
    "    df = df[df['ride_speed_kmh'] < 80]\n",
    "    df = df[df['ride_distance_km'] < 40]\n",
    "    return df"
   ]
  },
  {
   "cell_type": "code",
   "execution_count": null,
   "metadata": {
    "slideshow": {
     "slide_type": "skip"
    },
    "tags": []
   },
   "outputs": [],
   "source": [
    "# log(\"Data Transform Phase Started\")\n",
    "# df = transform(df)\n",
    "# log(\"Data Transform Phase Ended\")"
   ]
  },
  {
   "cell_type": "code",
   "execution_count": null,
   "metadata": {
    "slideshow": {
     "slide_type": "skip"
    },
    "tags": []
   },
   "outputs": [],
   "source": [
    "# log(\"Data Load Phase Started\")\n",
    "# load(df, processed_df_path)\n",
    "# log(\"Data Load Phase Ended\")"
   ]
  },
  {
   "cell_type": "code",
   "execution_count": null,
   "metadata": {
    "slideshow": {
     "slide_type": "skip"
    },
    "tags": []
   },
   "outputs": [],
   "source": [
    "log(\"ETL Process Ended\")"
   ]
  },
  {
   "cell_type": "markdown",
   "metadata": {
    "slideshow": {
     "slide_type": "skip"
    },
    "tags": []
   },
   "source": [
    "Description of the data final form"
   ]
  },
  {
   "cell_type": "markdown",
   "metadata": {
    "slideshow": {
     "slide_type": "skip"
    },
    "tags": []
   },
   "source": [
    "| No. | Column | Description| Data Type | Category|\n",
    "| :-- | :-- | :-- | :-- | :-- |\n",
    "| 1 | Ride_Id | Customer Unique ID | String | Nominal |\n",
    "| 2 | Rideable_Type | The type of bike customer used for the trip | String | Nominal |\n",
    "| 3 | Started_At | The date and time when the trip started | DateTime | Discrete |\n",
    "| 4 | Ended_At | The date and time when the trip ended | DateTime | Discrete |\n",
    "| 5 | Start_Station_Name | Name of the station where the trip started | String | Nominal |\n",
    "| 6 | Start_Station_Id | ID of the station where the trip started | String | Nominal |\n",
    "| 7 | End_Station_Name | Name of the station where the trip ended | String | Nominal |\n",
    "| 8 | End_Station_Id | ID of the station where the trip ended | String | Nominal |\n",
    "| 9 | Start_Lat | Latitude value where the trip have started expressed in decimal degrees | Float | Contiuous |\n",
    "| 10 | Start_Lng | Longitude value where the trip have started expressed in decimal degrees | Float | Contiuous |\n",
    "| 11 | End_Lat | Latitude value where the trip have ended expressed in decimal degrees | Float | Contiuous |\n",
    "| 12 | End_Lng | Longitude value where the trip have ended expressed in decimal degrees | Float | Contiuous |\n",
    "| 13 | Member_Casual | Classification of Customers: Customers who purchase single-ride or full-day passes are referred to as casual. Customers who purchase annual memberships referred to as members  | String | Nominal |\n",
    "| 14 | Month | The month when the trip happened  | Integer | Discrete |\n",
    "| 15 | Start_Point | Latitude and Longitude of the starting station combined | String | Nominal |\n",
    "| 16 | End_Point | Latitude and Longitude of the Ending station combined  | String | Nominal |\n",
    "| 17 | Ride_Length_Mins | Duration of the ride measured in minutes | Float | Contiuous |\n",
    "| 18 | Ride_Distance_KM | Distance of the ride measured in kilometers | Float | Contiuous |\n",
    "| 19 | Ride_Speed_KMH | Speed of the ride measured in kilometers  per hour| Float | Contiuous |\n",
    "| 20 | Season | Season at which the ride took place | String | Nominal |\n",
    "| 21 | Ride_At_Weekend | Identification if the ride conducted during the weekend | String | Nominal |\n",
    "| 22 | Start_Suburb | Starting suburb  of the ride  | String | Nominal |\n",
    "| 23 | End_Suburb | Ending suburb  of the ride  | String | Nominal |\n",
    "| 24 | Date | The date when the trip happened | Date | Discrete |\n",
    "| 25 | Year_Month | The month and year when the trip happened | String | Nominal |\n",
    "| 26 | Time_Of_Day | The date and time when the trip Occured | String | Nominal |"
   ]
  },
  {
   "cell_type": "markdown",
   "metadata": {
    "slideshow": {
     "slide_type": "skip"
    },
    "tags": []
   },
   "source": [
    "### Exploratory Data Analysis"
   ]
  },
  {
   "cell_type": "code",
   "execution_count": null,
   "metadata": {
    "slideshow": {
     "slide_type": "skip"
    },
    "tags": []
   },
   "outputs": [],
   "source": [
    "nums = ['ride_length_mins', 'ride_distance_km', 'ride_speed_kmh']\n",
    "cats = ['rideable_type', 'season', 'ride_at_weekend', 'start_suburb', 'end_suburb', 'time_of_day', 'year_month']\n",
    "chartable = [x for x in cats if df[x].nunique() < 6]\n",
    "dates = ['date']"
   ]
  },
  {
   "cell_type": "markdown",
   "metadata": {
    "execution": {
     "iopub.execute_input": "2021-09-07T00:39:59.157258Z",
     "iopub.status.busy": "2021-09-07T00:39:59.154579Z",
     "iopub.status.idle": "2021-09-07T00:39:59.179954Z"
    },
    "slideshow": {
     "slide_type": "skip"
    },
    "tags": []
   },
   "source": [
    "**Descriptive Analysis Of Numerical Fields (Table 1)**"
   ]
  },
  {
   "cell_type": "code",
   "execution_count": null,
   "metadata": {
    "slideshow": {
     "slide_type": "skip"
    },
    "tags": []
   },
   "outputs": [],
   "source": [
    "def desc_num(df, group_col, nums):\n",
    "    q_25 = partial(pd.Series.quantile, q=0.25)\n",
    "    q_25.__name__ = \"Q1\"\n",
    "    q_75 = partial(pd.Series.quantile, q=0.75)\n",
    "    q_75.__name__ = \"Q3\"\n",
    "    data_range = partial(np.ptp)\n",
    "    data_range.__name__ = \"range\"\n",
    "    nums = df.select_dtypes(include='number').columns.tolist() if nums is None else nums\n",
    "    grouped = df.groupby(group_col)[nums].agg([\"count\", \"min\", q_25, \"median\", \"mean\", q_75, \"max\", data_range, \"var\", \"std\"])\n",
    "    grouped = round(grouped.T.reset_index(), 1)\n",
    "    grouped.columns = ['Column', 'Measure'] + df[group_col].map(str.upper).unique().tolist()\n",
    "    return grouped"
   ]
  },
  {
   "cell_type": "code",
   "execution_count": null,
   "metadata": {
    "slideshow": {
     "slide_type": "skip"
    },
    "tags": []
   },
   "outputs": [],
   "source": [
    "desc_num(df, \"member_casual\", nums).head(10)"
   ]
  },
  {
   "cell_type": "markdown",
   "metadata": {
    "execution": {
     "iopub.execute_input": "2021-09-07T00:40:48.653885Z",
     "iopub.status.busy": "2021-09-07T00:40:48.651594Z",
     "iopub.status.idle": "2021-09-07T00:40:48.67308Z"
    },
    "slideshow": {
     "slide_type": "skip"
    },
    "tags": []
   },
   "source": [
    "**Descriptive Analysis Of Categorical Fields (Table 2)**"
   ]
  },
  {
   "cell_type": "code",
   "execution_count": null,
   "metadata": {
    "slideshow": {
     "slide_type": "skip"
    },
    "tags": []
   },
   "outputs": [],
   "source": [
    "def desc_cat(df, group_col, cats):\n",
    "    cats = df.select_dtypes(exclude='number').columns.tolist() if nums is None else cats\n",
    "    grouped = df.groupby(group_col)[cats].describe()\n",
    "    grouped = grouped.T.reset_index()\n",
    "    grouped.columns = ['Column', 'Measure'] + df[group_col].map(str.upper).unique().tolist()\n",
    "    return grouped"
   ]
  },
  {
   "cell_type": "code",
   "execution_count": null,
   "metadata": {
    "slideshow": {
     "slide_type": "skip"
    },
    "tags": []
   },
   "outputs": [],
   "source": [
    "desc_cat(df, \"member_casual\", cats)"
   ]
  },
  {
   "cell_type": "code",
   "execution_count": null,
   "metadata": {
    "slideshow": {
     "slide_type": "skip"
    },
    "tags": []
   },
   "outputs": [],
   "source": [
    "def pivot_cat(df, col1, col2):\n",
    "    cros = pd.crosstab(df[col1], df[col2])\n",
    "    cros = cros.rename_axis(None)\n",
    "    cros = cros.rename_axis(None, axis=1)\n",
    "    cros = cros.reset_index()\n",
    "    cros = cros.rename(columns={'index': col1})\n",
    "    return cros"
   ]
  },
  {
   "cell_type": "code",
   "execution_count": null,
   "metadata": {
    "slideshow": {
     "slide_type": "skip"
    },
    "tags": []
   },
   "outputs": [],
   "source": [
    "pivot_cat(df, \"member_casual\", \"rideable_type\")"
   ]
  },
  {
   "cell_type": "markdown",
   "metadata": {
    "slideshow": {
     "slide_type": "skip"
    },
    "tags": []
   },
   "source": [
    "**Visual Comparasion Of Numerical Fields Based On Membership (Graph 1)**"
   ]
  },
  {
   "cell_type": "code",
   "execution_count": null,
   "metadata": {
    "slideshow": {
     "slide_type": "skip"
    },
    "tags": []
   },
   "outputs": [],
   "source": [
    "def num_viz(df, col1, col2):\n",
    "    hist = hv.Histogram(np.histogram(df[col2], 20))\n",
    "    hist.opts(width=500, height=500, title=f'{col2} histogram', tools=['hover'])\n",
    "    box = hv.BoxWhisker(df, kdims=[col1], vdims=[col2])\n",
    "    box.opts(width=500, height=500, title=f'Range of {col2} by {col1}', tools=['hover'], box_color=col1, cmap='tab10')\n",
    "    return pn.Row(hist, box)"
   ]
  },
  {
   "cell_type": "code",
   "execution_count": null,
   "metadata": {
    "slideshow": {
     "slide_type": "skip"
    },
    "tags": []
   },
   "outputs": [],
   "source": [
    "nums_col = pn.Column()\n",
    "for num in nums:\n",
    "    nums_col.append(num_viz(df, 'member_casual', num))\n",
    "nums_col"
   ]
  },
  {
   "cell_type": "markdown",
   "metadata": {
    "slideshow": {
     "slide_type": "skip"
    },
    "tags": []
   },
   "source": [
    "**Visual Comparasion Of Categorical Fields Based On Membership (Graph 2)**"
   ]
  },
  {
   "cell_type": "code",
   "execution_count": null,
   "metadata": {
    "slideshow": {
     "slide_type": "skip"
    },
    "tags": []
   },
   "outputs": [],
   "source": [
    "def cat_viz(df, col1, col2):\n",
    "    cmap = plt.get_cmap('tab10')\n",
    "    colors = [cmap(i) for i in np.linspace(0, 1, 8)]\n",
    "    pie = go.Figure(go.Pie(labels=df[col2].unique(), values=df[col2].value_counts(), marker=dict(colors=colors\n",
    "                                                                , line=dict(color='#FFF', width=1)), insidetextorientation='radial'\n",
    "                                                                , showlegend=False, textinfo='label+percent'))\n",
    "    pie.update_layout(autosize=False, width=500, height=500, title_text=f'{col2} categories', margin=dict(\n",
    "        l=10,\n",
    "        r=100,\n",
    "        b=100,\n",
    "        t=100,\n",
    "        pad=0))\n",
    "    bars = hv.Bars(df, kdims=[col1, col2]).aggregate(function=np.size)\n",
    "    hover = HoverTool(tooltips=[(col2, f\"@{col2}\")])\n",
    "    bars.opts(stacked=True, width=500, height=500, title=f'{col2} by {col1}', tools=[hover], ylabel='Count', cmap='tab10')\n",
    "    return pn.Row(pie, bars)"
   ]
  },
  {
   "cell_type": "code",
   "execution_count": null,
   "metadata": {
    "slideshow": {
     "slide_type": "skip"
    },
    "tags": []
   },
   "outputs": [],
   "source": [
    "cats_col = pn.Column()\n",
    "for cat in chartable:\n",
    "    cats_col.append(cat_viz(df, 'member_casual', cat))\n",
    "cats_col"
   ]
  },
  {
   "cell_type": "code",
   "execution_count": null,
   "metadata": {
    "slideshow": {
     "slide_type": "skip"
    },
    "tags": []
   },
   "outputs": [],
   "source": [
    "ts = df.groupby(['date','member_casual'], as_index=False)['member_casual'].size()\n",
    "member_counts = ts[ts['member_casual'] == 'member'][['date', 'size']]\n",
    "member_counts[\"date\"] = member_counts[\"date\"].apply(pd.to_datetime)\n",
    "casual_counts = ts[ts['member_casual'] == 'casual'][['date', 'size']]\n",
    "casual_counts[\"date\"] = casual_counts[\"date\"].apply(pd.to_datetime)"
   ]
  },
  {
   "cell_type": "markdown",
   "metadata": {
    "slideshow": {
     "slide_type": "skip"
    },
    "tags": []
   },
   "source": [
    "**Trends of Rides For Members (Graph 3)**"
   ]
  },
  {
   "cell_type": "code",
   "execution_count": null,
   "metadata": {
    "slideshow": {
     "slide_type": "skip"
    },
    "tags": []
   },
   "outputs": [],
   "source": [
    "member_heat_cal = calplot(member_counts, x=\"date\", y=\"size\", title='Members rides by date', years_title=True, colorscale='reds',total_height=500,width=500)\n",
    "mcurve = hv.Curve(member_counts, 'date', ('size', 'Count'))\n",
    "mcurve.opts(width=500, height=500, title='Members rides by date', tools=['hover'], color='red')\n",
    "trends_member = pn.Row(mcurve, member_heat_cal)\n",
    "trends_member"
   ]
  },
  {
   "cell_type": "markdown",
   "metadata": {
    "slideshow": {
     "slide_type": "skip"
    },
    "tags": []
   },
   "source": [
    "**Trends of Rides for Casuals (Graph 4)**"
   ]
  },
  {
   "cell_type": "code",
   "execution_count": null,
   "metadata": {
    "slideshow": {
     "slide_type": "skip"
    },
    "tags": []
   },
   "outputs": [],
   "source": [
    "casual_heat_cal = calplot(casual_counts, x=\"date\", y=\"size\", title='Casuals rides by date', years_title=True, colorscale='blues',total_height=500,width=500)\n",
    "ccurve = hv.Curve(casual_counts, 'date', ('size', 'Count'))\n",
    "ccurve.opts(width=500, height=500, title='Casuals rides by date', tools=['hover'])\n",
    "trends_casual = pn.Row(ccurve, casual_heat_cal)\n",
    "trends_casual"
   ]
  },
  {
   "cell_type": "code",
   "execution_count": null,
   "metadata": {
    "slideshow": {
     "slide_type": "skip"
    },
    "tags": []
   },
   "outputs": [],
   "source": [
    "gdf = gpd.read_file(chicago_map, crs='epsg:4326')"
   ]
  },
  {
   "cell_type": "code",
   "execution_count": null,
   "metadata": {
    "slideshow": {
     "slide_type": "skip"
    },
    "tags": []
   },
   "outputs": [],
   "source": [
    "member_start_count = df[df['member_casual'] == 'member']\n",
    "member_start_count = member_start_count.groupby(['start_suburb'], as_index=False)['start_suburb'].size()\n",
    "map_member_start = gdf.merge(member_start_count, how='left', left_on='community', right_on='start_suburb')"
   ]
  },
  {
   "cell_type": "code",
   "execution_count": null,
   "metadata": {
    "slideshow": {
     "slide_type": "skip"
    },
    "tags": []
   },
   "outputs": [],
   "source": [
    "member_end_count = df[df['member_casual'] == 'member']\n",
    "member_end_count = member_end_count.groupby(['end_suburb'], as_index=False)['end_suburb'].size()\n",
    "map_member_end = gdf.merge(member_end_count, how='left', left_on='community', right_on='end_suburb')"
   ]
  },
  {
   "cell_type": "code",
   "execution_count": null,
   "metadata": {
    "slideshow": {
     "slide_type": "skip"
    },
    "tags": []
   },
   "outputs": [],
   "source": [
    "casual_start_count = df[df['member_casual'] == 'casual']\n",
    "casual_start_count = casual_start_count.groupby(['start_suburb'], as_index=False)['start_suburb'].size()\n",
    "map_casual_start = gdf.merge(casual_start_count, how='left', left_on='community', right_on='start_suburb')"
   ]
  },
  {
   "cell_type": "code",
   "execution_count": null,
   "metadata": {
    "slideshow": {
     "slide_type": "skip"
    },
    "tags": []
   },
   "outputs": [],
   "source": [
    "casual_end_count = df[df['member_casual'] == 'casual']\n",
    "casual_end_count = casual_end_count.groupby(['end_suburb'], as_index=False)['end_suburb'].size()\n",
    "map_casual_end = gdf.merge(casual_end_count, how='left', left_on='community', right_on='end_suburb')"
   ]
  },
  {
   "cell_type": "markdown",
   "metadata": {
    "slideshow": {
     "slide_type": "skip"
    },
    "tags": []
   },
   "source": [
    "**HeatMap Of Members Rides In Chicago Suburbs (Graph 5)**"
   ]
  },
  {
   "cell_type": "code",
   "execution_count": null,
   "metadata": {
    "slideshow": {
     "slide_type": "skip"
    },
    "tags": []
   },
   "outputs": [],
   "source": [
    "CHICAGO_COORDINATES = (41.85, -87.68)\n",
    "mstart = folium.Map(location=CHICAGO_COORDINATES, width='100%', height='100%', zoom_start=10, tiles=\"cartodbpositron\")\n",
    "m_choropleth_start = folium.Choropleth(geo_data=map_member_start,\n",
    "              data=map_member_start,\n",
    "              columns=[\"start_suburb\",\"size\"],\n",
    "              key_on=\"feature.properties.community\",\n",
    "              name=\"Member Rides Start Locations\",\n",
    "              legend_name=\"Start Trips Count\",\n",
    "              highlight=True,\n",
    "              nan_fill_color='black',\n",
    "              nan_fill_opacity=0.6,                  \n",
    "              fill_color=\"YlOrRd\").add_to(mstart)\n",
    "m_choropleth_start.geojson.add_child(\n",
    "    folium.features.GeoJsonTooltip(fields=[\"community\", \"size\"],\n",
    "                                   aliases=['Suburb:', 'Number of Ries:'],\n",
    "                                   labels=True,\n",
    "                                   localize=True,\n",
    "                                   sticky=False,\n",
    "                                   style=\"\"\"\n",
    "                                   background-color: #F0EFEF;\n",
    "                                   border: 2px solid black;\n",
    "                                   border-radius: 3px;\n",
    "                                   box-shadow: 3px;\n",
    "                                   \"\"\",))\n",
    "m_choropleth_end = folium.Choropleth(geo_data=map_member_end,\n",
    "              data=map_member_end,\n",
    "              columns=[\"end_suburb\", \"size\"],\n",
    "              key_on=\"feature.properties.community\",\n",
    "              name=\"Member Rides End Locations\",\n",
    "              legend_name=\"End Trips Count\",\n",
    "              highlight=True,\n",
    "              fill_color=\"YlOrRd\",\n",
    "              show=False).add_to(mstart)\n",
    "m_choropleth_end.geojson.add_child(\n",
    "    folium.features.GeoJsonTooltip(fields=[\"community\", \"size\"],\n",
    "                                   aliases=['Suburb:', 'Number of Ries:'],\n",
    "                                   labels=True,\n",
    "                                   localize=True,\n",
    "                                   sticky=False,\n",
    "                                   style=\"\"\"\n",
    "                                   background-color: #F0EFEF;\n",
    "                                   border: 2px solid black;\n",
    "                                   border-radius: 3px;\n",
    "                                   box-shadow: 3px;\n",
    "                                   \"\"\",))\n",
    "title_text = 'Mambers Rides HeatMap'\n",
    "instructions = 'kindly click on the icon placed on the upper right corner, to choose the informatin that will be displayed'\n",
    "title_html = f'''\n",
    "             <h3 align=\"center\" style=\"font-size:12px\"><b>{title_text}</b></h3>\n",
    "             <h6 align=\"center\" style=\"font-size:12px\">{instructions}</h6>\n",
    "             '''\n",
    "mstart.get_root().html.add_child(folium.Element(title_html))\n",
    "folium.LayerControl().add_to(mstart)\n",
    "mstart"
   ]
  },
  {
   "cell_type": "markdown",
   "metadata": {
    "slideshow": {
     "slide_type": "skip"
    },
    "tags": []
   },
   "source": [
    "**HeatMap Of Casuals Rides In Chicago Suburbs (Graph 6)**"
   ]
  },
  {
   "cell_type": "code",
   "execution_count": null,
   "metadata": {
    "slideshow": {
     "slide_type": "skip"
    },
    "tags": []
   },
   "outputs": [],
   "source": [
    "CHICAGO_COORDINATES = (41.85, -87.68)\n",
    "cstart = folium.Map(location=CHICAGO_COORDINATES, width='100%', height='100%', zoom_start=10, tiles=\"cartodbpositron\")\n",
    "c_choropleth_start = folium.Choropleth(geo_data=map_casual_start,\n",
    "              data=map_casual_start,\n",
    "              columns=[\"start_suburb\", \"size\"],\n",
    "              key_on=\"feature.properties.community\",\n",
    "              name=\"Casual Rides Start Locations\",\n",
    "              legend_name=\"Start Trips Count\",\n",
    "              highlight=True,\n",
    "              fill_color=\"YlGnBu\").add_to(cstart)\n",
    "c_choropleth_start.geojson.add_child(\n",
    "    folium.features.GeoJsonTooltip(fields=[\"community\", \"size\"],\n",
    "                                   aliases=['Suburb:', 'Number of Ries:'],\n",
    "                                   labels=True,\n",
    "                                   localize=True,\n",
    "                                   sticky=False,\n",
    "                                   style=\"\"\"\n",
    "                                   background-color: #F0EFEF;\n",
    "                                   border: 2px solid black;\n",
    "                                   border-radius: 3px;\n",
    "                                   box-shadow: 3px;\n",
    "                                   \"\"\",))\n",
    "c_choropleth_end = folium.Choropleth(geo_data=map_casual_end,\n",
    "              data=map_casual_end,\n",
    "              columns=[\"end_suburb\", \"size\"],\n",
    "              key_on=\"feature.properties.community\",\n",
    "              name=\"Casual Rides End Locations\",\n",
    "              legend_name=\"End Trips Count\",\n",
    "              highlight=True,\n",
    "              fill_color=\"YlGnBu\",\n",
    "              show=False).add_to(cstart)\n",
    "c_choropleth_end.geojson.add_child(\n",
    "    folium.features.GeoJsonTooltip(fields=[\"community\", \"size\"],\n",
    "                                   aliases=['Suburb:', 'Number of Ries:'],\n",
    "                                   labels=True,\n",
    "                                   localize=True,\n",
    "                                   sticky=False,\n",
    "                                   style=\"\"\"\n",
    "                                   background-color: #F0EFEF;\n",
    "                                   border: 2px solid black;\n",
    "                                   border-radius: 3px;\n",
    "                                   box-shadow: 3px;\n",
    "                                   \"\"\",))\n",
    "title_text = 'Casuals Rides HeatMap'\n",
    "instructions = 'kindly click on the icon placed on the upper right corner, to choose the informatin that will be displayed'\n",
    "title_html = f'''\n",
    "             <h3 align=\"center\" style=\"font-size:12px\"><b>{title_text}</b></h3>\n",
    "             <h6 align=\"center\" style=\"font-size:12px\">{instructions}</h6>\n",
    "             '''\n",
    "cstart.get_root().html.add_child(folium.Element(title_html))\n",
    "folium.LayerControl().add_to(cstart)\n",
    "cstart"
   ]
  },
  {
   "cell_type": "code",
   "execution_count": null,
   "metadata": {
    "slideshow": {
     "slide_type": "skip"
    },
    "tags": []
   },
   "outputs": [],
   "source": [
    "log(\"Cyclistic Notebook Execution Ended\")"
   ]
  },
  {
   "cell_type": "markdown",
   "metadata": {
    "slideshow": {
     "slide_type": "skip"
    },
    "tags": []
   },
   "source": [
    "### Key Findings"
   ]
  },
  {
   "cell_type": "markdown",
   "metadata": {
    "slideshow": {
     "slide_type": "skip"
    },
    "tags": []
   },
   "source": [
    "**Table 1 Key Findings:**\n",
    "* Farthest distance traveled by both categories is 32km (20 Miles) and they have a similar average of 2km (1.25 Miles)\n",
    "* Members tend to ride for shorter periods in general, nearly half the time when compared to casual rides\n",
    "* Members ride faster than the casual customer most of the time\n",
    "\n",
    "**Table 2 Key Findings:**\n",
    "* Members prefer the classic bike, whereas the casual riders enjoy the options of bikes almost equally.\n",
    "* Summer is the in-demand season for bikes while in winter bikes are less used significantly\n",
    "* Members ride more on the weekend days while casual enjoy the rides any day of the week\n",
    "* Afternoon is the period of the day with high usage of bikes for both categories, but members take almost twice the rides when compared to casuals during the morning time\n",
    "\n",
    "\n",
    "**Graph 3 Key Findings:**\n",
    "* Most of the rides are happening during the summer and fall for members\n",
    "\n",
    "**Graph 4 Key Findings:**\n",
    "* Most of the rides are happening during the summer and fall for casual riders too, with Saturday being with the most rides during the week notably\n",
    "\n",
    "**Graph 5 Key Findings:**\n",
    "* Near North Side Suburb is the most visited area in Chicago by members\n",
    "* Lincoln Park and Lake View areas come as the second choice for the members\n",
    "* Loop, Near West Side, and West Town are considering popular destinations for the members\n",
    "* Members mostly do not ride to the outskirts of the city\n",
    "\n",
    "**Graph 6 Key Findings:**\n",
    "* Near North Side Suburb is the most visited area in Chicago by casuals too\n",
    "* Loop and Lincoln Park areas come as the second choice for the casuals\n",
    "* Lake View comes as the third choice for the casuals\n",
    "* Near West Side and West Town are considered popular destinations for the casuals too\n",
    "* Members mostly do not ride to the outskirts of the city too"
   ]
  },
  {
   "cell_type": "markdown",
   "metadata": {
    "slideshow": {
     "slide_type": "skip"
    },
    "tags": []
   },
   "source": [
    "### Recommendations"
   ]
  },
  {
   "cell_type": "markdown",
   "metadata": {
    "slideshow": {
     "slide_type": "skip"
    },
    "tags": []
   },
   "source": [
    "My three recommendations for the new marketing strategy are as follows:  \n",
    "1. Time-Related Recommendation: ensuring the demand for bicycles are met and having availability also during peak times:\n",
    "* Morning and afternoon for the day\n",
    "* Weekends for the week\n",
    "* Summer and fall for the year\n",
    "\n",
    "2. Location Related Recommendation: 6 Chicago suburbs being the most visited by riders, in those suburbs where the offering of bikes and advertisement should take place:\n",
    "* Near North Side\n",
    "* Lincoln Park\n",
    "* Lake View\n",
    "* Loop\n",
    "* Near West Side\n",
    "* West Town\n",
    "\n",
    "3. Equipment Related Recommendation: since the members tend to use the bicycles for shorters period and faster travel times, introducing more electric bikes with better mileage and higher speed for members will keep the current members happy and spark interest for casual who need quick rides, not to forget it is less physical,environment friendly and also can help in having more riders to explore the other suburbs of the city"
   ]
  },
  {
   "cell_type": "markdown",
   "metadata": {
    "slideshow": {
     "slide_type": "notes"
    },
    "tags": []
   },
   "source": [
    "# Slides Section"
   ]
  },
  {
   "cell_type": "markdown",
   "metadata": {
    "slideshow": {
     "slide_type": "slide"
    },
    "tags": []
   },
   "source": [
    "## Motivate Inc. Customers: Deeper Understanding\n",
    "\n",
    "**Created by: Adel Ahmed**\n",
    "\n",
    "**Jan 2022**"
   ]
  },
  {
   "cell_type": "markdown",
   "metadata": {
    "slideshow": {
     "slide_type": "slide"
    },
    "tags": []
   },
   "source": [
    "### OUTLINE ###\n",
    "1. Executive Summary\n",
    "2. Introduction\n",
    "3. Methodology\n",
    "4. Results\n",
    "    - Visualization – Charts\n",
    "5. Discussion\n",
    "6. Findings & Implications\n",
    "7. Conclusion\n",
    "8. Appendix"
   ]
  },
  {
   "cell_type": "markdown",
   "metadata": {
    "slideshow": {
     "slide_type": "slide"
    },
    "tags": []
   },
   "source": [
    "##### Section 1 #####\n",
    "\n",
    "### EXECUTIVE SUMMARY ###\n",
    "- Identify how annual members and casual riders differ\n",
    "- Recommendations for the new marketing strategy based on findings"
   ]
  },
  {
   "cell_type": "markdown",
   "metadata": {
    "jp-MarkdownHeadingCollapsed": true,
    "slideshow": {
     "slide_type": "slide"
    },
    "tags": []
   },
   "source": [
    "##### Section 2 #####\n",
    "\n",
    "### INTRODUCTION ###\n",
    "The head of Marketing believes that maximizing the number of annual members will be key to future growth.  \n",
    "Moreno has set a clear goal: Design marketing strategies aimed at converting casual riders into annual members.\n",
    "\n",
    "Marketing team are interested in analyzing the Cyclistic historical bike trip data to identify trends  \n",
    "The question to answer in this Analysis is: **How do annual members and casual riders use Cyclistic bikes differently?**  \n",
    "Also recommendations will be provided based on the finding of this Analysis\n",
    "\n",
    "\n",
    "Description of the dataset\n",
    "\n",
    "| No. | Column | Description| Data Type | Category|\n",
    "| :-- | :-- | :-- | :-- | :-- |\n",
    "| 1 | Ride_Id | Customer Unique ID | String | Nominal |\n",
    "| 2 | Rideable_Type | The type of bike customer used for the trip | String | Nominal |\n",
    "| 3 | Started_At | The date and time when the trip started | DateTime | Discrete |\n",
    "| 4 | Ended_At | The date and time when the trip ended | DateTime | Discrete |\n",
    "| 5 | Start_Station_Name | Name of the station where the trip started | String | Nominal |\n",
    "| 6 | Start_Station_Id | ID of the station where the trip started | String | Nominal |\n",
    "| 7 | End_Station_Name | Name of the station where the trip ended | String | Nominal |\n",
    "| 8 | End_Station_Id | ID of the station where the trip ended | String | Nominal |\n",
    "| 9 | Start_Lat | Latitude value where the trip have started expressed in decimal degrees | Float | Contiuous |\n",
    "| 10 | Start_Lng | Longitude value where the trip have started expressed in decimal degrees | Float | Contiuous |\n",
    "| 11 | End_Lat | Latitude value where the trip have ended expressed in decimal degrees | Float | Contiuous |\n",
    "| 12 | End_Lng | Longitude value where the trip have ended expressed in decimal degrees | Float | Contiuous |\n",
    "| 13 | Member_Casual | Classification of Customers: Customers who purchase single-ride or full-day passes are referred to as casual. Customers who purchase annual memberships referred to as members  | String | Nominal |"
   ]
  },
  {
   "cell_type": "markdown",
   "metadata": {
    "slideshow": {
     "slide_type": "slide"
    },
    "tags": []
   },
   "source": [
    "##### Section 3 #####\n",
    "\n",
    "### METHODOLOGY ###\n",
    "- Collecting Data from the publicly avaialbe dataset\n",
    "- Acquring location data from publicly available API\n",
    "- Examining all data to conduct the analysis\n",
    "- Exploring the data through statistics and visualization\n",
    "- Listing the findings and insights from the analysis\n",
    "- Recommendations for the Marketing Team\n"
   ]
  },
  {
   "cell_type": "markdown",
   "metadata": {
    "slideshow": {
     "slide_type": "slide"
    },
    "tags": []
   },
   "source": [
    "##### Section 4 #####\n",
    "\n",
    "### RESULTS ###\n",
    "\n",
    "* Exploratory Data Analysis Results\n"
   ]
  },
  {
   "cell_type": "markdown",
   "metadata": {
    "slideshow": {
     "slide_type": "subslide"
    },
    "tags": []
   },
   "source": [
    "#### Exploratory Data Analysis Results ####"
   ]
  },
  {
   "cell_type": "code",
   "execution_count": null,
   "metadata": {
    "slideshow": {
     "slide_type": "notes"
    },
    "tags": [
     "hide_output"
    ]
   },
   "outputs": [],
   "source": [
    "hv.extension('bokeh', 'plotly', logo=False)"
   ]
  },
  {
   "cell_type": "code",
   "execution_count": null,
   "metadata": {
    "slideshow": {
     "slide_type": "fragment"
    },
    "tags": []
   },
   "outputs": [],
   "source": [
    "num_viz(df, 'member_casual', 'ride_length_mins')"
   ]
  },
  {
   "cell_type": "code",
   "execution_count": null,
   "metadata": {
    "slideshow": {
     "slide_type": "fragment"
    },
    "tags": []
   },
   "outputs": [],
   "source": [
    "cat_viz(df, 'member_casual', 'season')"
   ]
  },
  {
   "cell_type": "markdown",
   "metadata": {
    "slideshow": {
     "slide_type": "slide"
    },
    "tags": []
   },
   "source": [
    "##### Section 5 #####\n",
    "\n",
    "### DISCUSSION ###\n",
    "\n",
    "Members drive faster on average while casual riders tend to ride for longer periods of time"
   ]
  },
  {
   "cell_type": "markdown",
   "metadata": {
    "slideshow": {
     "slide_type": "slide"
    },
    "tags": []
   },
   "source": [
    "##### Section 6 #####\n",
    "\n",
    "### Findings & Implications ###\n",
    "1. Time-Related Recommendation: ensuring the demand for bicycles are met and having availability also during peak times:\n",
    "    * Morning and afternoon for the day\n",
    "    * Weekends for the week\n",
    "    * Summer and fall for the year\n",
    "\n",
    "2. Location Related Recommendation: 6 Chicago suburbs being the most visited by riders, in those suburbs where the offering of bikes and advertisement should take place:\n",
    "    * Near North Side\n",
    "    * Lincoln Park\n",
    "    * Lake View\n",
    "    * Loop\n",
    "    * Near West Side\n",
    "    * West Town\n",
    "\n",
    "3. Equipment Related Recommendation: since the members tend to use the bicycles for shorters period and faster travel times, introducing more electric bikes with better mileage and higher speed for members will keep the current members happy and spark interest for casual who need quick rides, not to forget it is less physical,environment friendly and also can help in having more riders to explore the other suburbs of the city"
   ]
  },
  {
   "cell_type": "markdown",
   "metadata": {
    "slideshow": {
     "slide_type": "slide"
    },
    "tags": []
   },
   "source": [
    "##### Section 7 #####\n",
    "\n",
    "### CONCLUSION ###\n",
    "Summer campaign targeted at high demand areas with new and faster bycicles options should be the new strategy for marketing."
   ]
  },
  {
   "cell_type": "markdown",
   "metadata": {
    "slideshow": {
     "slide_type": "slide"
    },
    "tags": []
   },
   "source": [
    "##### Section 8 #####\n",
    "\n",
    "### APPENDIX ###\n",
    "\n",
    "More information can be found at [My Portfolio](https://panel-adahmed.herokuapp.com/)"
   ]
  },
  {
   "cell_type": "markdown",
   "metadata": {
    "slideshow": {
     "slide_type": "slide"
    },
    "tags": []
   },
   "source": [
    "# Thank you #\n",
    "Looking forward to seeing you agian."
   ]
  },
  {
   "cell_type": "markdown",
   "metadata": {
    "slideshow": {
     "slide_type": "skip"
    },
    "tags": []
   },
   "source": [
    "# Dashboard Section"
   ]
  },
  {
   "cell_type": "code",
   "execution_count": null,
   "metadata": {
    "slideshow": {
     "slide_type": "skip"
    },
    "tags": []
   },
   "outputs": [],
   "source": [
    "html = f\"<iframe src={slides_file}, width=1320, height=520></iframe>\"\n",
    "html_pane = pn.pane.HTML(html, sizing_mode='scale_width')"
   ]
  },
  {
   "cell_type": "code",
   "execution_count": null,
   "metadata": {
    "slideshow": {
     "slide_type": "skip"
    },
    "tags": []
   },
   "outputs": [],
   "source": [
    "dashboard = pn.GridSpec(width=1300, height=700)\n",
    "sidebar = dashboard[:, 0:2] = pn.Column(margin=0, sizing_mode='scale_height')\n",
    "header = dashboard[0:1, 2:12] = pn.Row(margin=0, sizing_mode='scale_width')\n",
    "main = dashboard[1:6, 2:12] = pn.FlexBox(margin=0, sizing_mode='scale_width', align_content='flex-start')\n",
    "\n",
    "\n",
    "x = pn.widgets.Select(name='X-Axis', value='ride_length_mins', options=nums)\n",
    "y = pn.widgets.Select(name='Y-Axis', value='ride_length_mins', options=nums)\n",
    "z = pn.widgets.Select(name='Z-Axis', value='date', options=dates)\n",
    "size = pn.widgets.Select(name='Size', value='None', options=['None'] + nums)\n",
    "color = pn.widgets.Select(name='Color', value='None', options=['None'] + chartable)\n",
    "\n",
    "@pn.depends(x.param.value, y.param.value, color.param.value, size.param.value) \n",
    "def create_figure(x, y, color, size):\n",
    "    opts = dict(cmap='rainbow', width=500, height=500, line_color='black')\n",
    "    if color != 'None':\n",
    "        opts['color'] = color \n",
    "    if size != 'None':\n",
    "        opts['size'] = hv.dim(size).norm()*20\n",
    "    return hv.Points(df, [x, y], label=\"%s vs %s\" % (x.title(), y.title())).opts(**opts)\n",
    "\n",
    "\n",
    "@pn.depends(x.param.value, z.param.value) \n",
    "def create_trends(x, z):\n",
    "    opts = dict(width=500, height=400, color='red', xaxis=None, tools=['hover'])\n",
    "    curve = hv.Curve(df.sort_values(by=[z]), z, x, label=\"%s Trend\" % (x.title())).opts(**opts)\n",
    "    spike = hv.Spikes(df[x]).opts(width=500, height=100, line_alpha=0.2, yaxis=None, color='grey')\n",
    "    stacked = (curve + spike).cols(1)\n",
    "    return stacked\n",
    "\n",
    "\n",
    "widgets = pn.WidgetBox(x, y, z , color, size)\n",
    "\n",
    "\n",
    "title = '## Motivate Inc. Customers: Deeper Understanding'\n",
    "introduction = 'Dashboard based on the dataset of cycling trips in Chicago City from the month of Aug 2020 until the Jul 2021'\n",
    "text = pn.Column(pn.pane.Markdown(title, sizing_mode='scale_width'), pn.pane.Markdown(introduction, sizing_mode='scale_width'), sizing_mode='scale_width')\n",
    "logo = pn.pane.JPG('https://media-exp1.licdn.com/dms/image/C4D0BAQFg_eRgwGXdKw/company-logo_200_200/0/1520880022675?e=2159024400&v=beta&t=Rm-oye7hhlq0lbT0H5z1gRco0aV_YwOBamyPtDrLQvk', width=100,  height=100)\n",
    "\n",
    "sidebar.append(widgets)\n",
    "header.extend([text, pn.layout.Spacer(width=10), logo])\n",
    "main.append(create_figure)\n",
    "main.append(create_trends)\n",
    "# main.append(trends_member)\n",
    "# main.append(trends_casual)"
   ]
  },
  {
   "cell_type": "code",
   "execution_count": null,
   "metadata": {
    "slideshow": {
     "slide_type": "skip"
    },
    "tags": []
   },
   "outputs": [],
   "source": [
    "tech_report = pn.Column()"
   ]
  },
  {
   "cell_type": "code",
   "execution_count": null,
   "metadata": {
    "slideshow": {
     "slide_type": "skip"
    },
    "tags": []
   },
   "outputs": [],
   "source": [
    "tech_report.append(pn.Row(pn.pane.Markdown('### Introduction')))"
   ]
  },
  {
   "cell_type": "code",
   "execution_count": null,
   "metadata": {
    "slideshow": {
     "slide_type": "skip"
    },
    "tags": []
   },
   "outputs": [],
   "source": [
    "tech_report.append(pn.Row(pn.pane.Markdown(\"\"\"In 2016, Cyclistic launched a successful bike-share offering. Since then, the program has grown to a fleet of 5,824 bicycles that are geotracked and locked into a network of 692 stations across Chicago. The bikes can be unlocked from one station and returned to any other station in the system anytime. Cyclistic sets itself apart by also offering reclining bikes, hand tricycles, and cargo bikes, making bike-share more inclusive to people with disabilities and riders who can’t use a standard two-wheeled bike. The majority of riders opt for traditional bikes; about 8% of riders use the assistive options. Cyclistic users are more likely to ride for leisure, but about 30% use them to commute to work each day.\n",
    "\n",
    "Until now, Cyclistic’s marketing strategy relied on building general awareness and appealing to broad consumer segments. One approach that helped make these things possible was the flexibility of its pricing plans: single-ride passes, full-day passes, and annual memberships. Customers who purchase single-ride or full-day passes are referred to as casual riders. Customers who purchase annual memberships are Cyclistic members. Cyclistic’s finance analysts have concluded that annual members are much more profitable than casual riders. Although the pricing flexibility helps Cyclistic attract more customers, The Director of Marketing Moreno believes that maximizing the number of annual members will be key to future growth. Rather than creating a marketing campaign that targets all-new customers, Moreno believes there is a very good chance to convert casual riders into members. She notes that casual riders are already aware of the Cyclistic program and have chosen Cyclistic for their mobility needs.\n",
    "\n",
    "Moreno has set a clear goal: Design marketing strategies aimed at converting casual riders into annual members. In order to do that, however, the marketing analyst team needs to better understand:\n",
    "\n",
    "1- how annual members and casual riders differ\n",
    "\n",
    "2- why casual riders would buy a membership\n",
    "\n",
    "3- how digital media could affect their marketing tactics\n",
    "\n",
    "Moreno and her team are interested in analyzing the Cyclistic historical bike trip data to identify trends.\n",
    "Your are a junior data analyst working in the marketing analyst team. **Moreno has assigned you the first question to answer: How do annual members and casual riders use Cyclistic bikes differently?** To answer that, you are going to conduct this data analysis. From the analysis insights, marketing team will design a new marketing strategy to convert casual riders into annual members. But first, Cyclistic executives must approve marketing team recommendations, so the analysis must be backed up with compelling data insights and professional data visualizations\n",
    "\"\"\", sizing_mode='scale_width')))"
   ]
  },
  {
   "cell_type": "code",
   "execution_count": null,
   "metadata": {
    "slideshow": {
     "slide_type": "skip"
    },
    "tags": []
   },
   "outputs": [],
   "source": [
    "tech_report.append(pn.Row(pn.pane.Markdown(\"\"\"### Table of Contents  \n",
    "<div class=\"alert alert-block alert-info\" style=\"margin-top: 20px\">\n",
    "\n",
    "<font size = 3>\n",
    "    \n",
    "1. <a href=\"#section1\">Main Objective</a><br>\n",
    "2. <a href=\"#section2\">Data Acquisition</a><br>\n",
    "3. <a href=\"#section3\">Data Processing</a><br>\n",
    "4. <a href=\"#section4\">Exploratory Data Analysis</a><br>\n",
    "5. <a href=\"#section5\">Key Findings</a><br>\n",
    "6. <a href=\"#section6\">Recommendations</a><br>\n",
    "\n",
    "</font>\n",
    "</div>\n",
    "\"\"\", sizing_mode='scale_width')))"
   ]
  },
  {
   "cell_type": "code",
   "execution_count": null,
   "metadata": {
    "jp-MarkdownHeadingCollapsed": true,
    "slideshow": {
     "slide_type": "skip"
    },
    "tags": []
   },
   "outputs": [],
   "source": [
    "tech_report.append(pn.Row(pn.pane.Markdown(\"\"\"###Main Objective</h3>\n",
    "\n",
    "| Item |Defintion|\n",
    "| :-- | :-- | \n",
    "| Category Of Data Analysis | Descriptive | \n",
    "| Business Task Need To Be Addressed| Identify how annual members and casual riders use cyclistic bikes differently | \n",
    "| Goal Of The Business Task | Help marketing team in designing marketing strategies aimed at converting casual riders into annual members | \n",
    "| KPI | Members Conversion Rate | \n",
    "| Key Stakeholders | Cyclistic Executive Team, Director of Marketing (Lily Moreno) and Marketing Analytics Team | \n",
    "\"\"\", sizing_mode='scale_width')))"
   ]
  },
  {
   "cell_type": "code",
   "execution_count": null,
   "metadata": {
    "slideshow": {
     "slide_type": "skip"
    },
    "tags": []
   },
   "outputs": [],
   "source": [
    "tech_report.append(pn.Row(pn.pane.Markdown(\"\"\"###Data Acquisition</h3>\n",
    "\n",
    "\n",
    "Cyclistic’s historical trip data has been made available by [Motivate International Inc](https://www.motivateco.com/). under this [license](https://www.divvybikes.com/data-license-agreement)\n",
    "\n",
    "[Data Source](https://divvy-tripdata.s3.amazonaws.com/index.html)\n",
    "\n",
    "The portion of the data that is required to be analyzed is the previous 12 months of Cyclistic trip data Data. the information resides in ZIP files, so they need extracting first. the resulting is 12 CSV files format with 13 columns in each one,\n",
    "\n",
    "| No. | Column | Description| Data Type | Category|\n",
    "| :-- | :-- | :-- | :-- | :-- |\n",
    "| 1 | Ride_Id | Customer Unique ID | String | Nominal |\n",
    "| 2 | Rideable_Type | The type of bike customer used for the trip | String | Nominal |\n",
    "| 3 | Started_At | The date and time when the trip started | DateTime | Discrete |\n",
    "| 4 | Ended_At | The date and time when the trip ended | DateTime | Discrete |\n",
    "| 5 | Start_Station_Name | Name of the station where the trip started | String | Nominal |\n",
    "| 6 | Start_Station_Id | ID of the station where the trip started | String | Nominal |\n",
    "| 7 | End_Station_Name | Name of the station where the trip ended | String | Nominal |\n",
    "| 8 | End_Station_Id | ID of the station where the trip ended | String | Nominal |\n",
    "| 9 | Start_Lat | Latitude value where the trip have started expressed in decimal degrees | Float | Contiuous |\n",
    "| 10 | Start_Lng | Longitude value where the trip have started expressed in decimal degrees | Float | Contiuous |\n",
    "| 11 | End_Lat | Latitude value where the trip have ended expressed in decimal degrees | Float | Contiuous |\n",
    "| 12 | End_Lng | Longitude value where the trip have ended expressed in decimal degrees | Float | Contiuous |\n",
    "| 13 | Member_Casual | Classification of Customers: Customers who purchase single-ride or full-day passes are referred to as casual. Customers who purchase annual memberships referred to as members  | String | Nominal |\n",
    "\n",
    "\n",
    "\n",
    "\n",
    "Since the dataset is made public by a known corporation and has a license of how we can use it, we can safely say the data is credible.  \n",
    "The Longitude and latitude information have been extracted, enriched with Suburb information, and provided as separate CSV files to join them with original data later on.  \n",
    "Also, map file will be downloaded from the [City of Chigaco Website](https://data.cityofchicago.org/api/geospatial/cauq-8yn6?method=export&format=GeoJSON), which will help in producing geographic visualization\n",
    "\"\"\", sizing_mode='scale_width')))"
   ]
  },
  {
   "cell_type": "code",
   "execution_count": null,
   "metadata": {
    "slideshow": {
     "slide_type": "skip"
    },
    "tags": []
   },
   "outputs": [],
   "source": [
    "tech_report.append(pn.Row(pn.pane.Markdown('###Data Processing</h3>', sizing_mode='scale_width')))"
   ]
  },
  {
   "cell_type": "code",
   "execution_count": null,
   "metadata": {
    "slideshow": {
     "slide_type": "skip"
    },
    "tags": []
   },
   "outputs": [],
   "source": [
    "tech_report.append(pn.Row(pn.pane.Markdown(\"\"\"\n",
    "Tools Used For The Analysis  \n",
    "Python langauge, SQL(Postgres) and NoSQL(MongoDB) will be the used for this analysis\n",
    "\"\"\", sizing_mode='scale_width')))"
   ]
  },
  {
   "cell_type": "code",
   "execution_count": null,
   "metadata": {
    "slideshow": {
     "slide_type": "skip"
    },
    "tags": []
   },
   "outputs": [],
   "source": [
    "tech_report.append(pn.Row(pn.pane.Markdown(\"\"\"\n",
    "Libraries Used For The Analysis:  \n",
    "1. numpy  \n",
    "2. pandas  \n",
    "3. plotly_calplot  \n",
    "4. datetime  \n",
    "5. tqdm  \n",
    "6. funcy  \n",
    "7. configparser  \n",
    "8. asyncio  \n",
    "9. asyncpg  \n",
    "10. aiosql  \n",
    "11. geopandas  \n",
    "12. geopy  \n",
    "13. shapely  \n",
    "14. folium  \n",
    "15. holoviews  \n",
    "16. panel  \n",
    "\"\"\", sizing_mode='scale_width')))"
   ]
  },
  {
   "cell_type": "code",
   "execution_count": null,
   "metadata": {
    "slideshow": {
     "slide_type": "skip"
    },
    "tags": []
   },
   "outputs": [],
   "source": [
    "tech_report.append(pn.Row(pn.pane.Markdown(\"\"\"\n",
    "Data and Software Engineering practices have been implemented during this analysis:  \n",
    "1. Implementing ETL process with 3 functions representing each step  \n",
    "2. Encapsulation of Sensitive information by offloading it into configuration files and access the informarion as varialbes  \n",
    "3. Code seperation by combining all the SQL code into external file and access them as functions that can be called  \n",
    "4. Logging of the process to keep track of the functions called and the time of execution  \n",
    "5. Clear structure by keep data, configuration, logs into seperate folders  \n",
    "6. Converting code into function to allow testing and docstring provided to describe the code  \n",
    "Complete code can be obtain at the Data tab as downloadable notebook\n",
    "\"\"\", sizing_mode='scale_width')))"
   ]
  },
  {
   "cell_type": "code",
   "execution_count": null,
   "metadata": {
    "slideshow": {
     "slide_type": "skip"
    },
    "tags": []
   },
   "outputs": [],
   "source": [
    "tech_report.append(pn.Row(pn.pane.Markdown(\"\"\"\n",
    "```python\n",
    "log(\"Data Extract Phase Started\")\n",
    "df = extract(sample_data)\n",
    "log(\"Data Extract Phase Ended\")\n",
    "log(\"Data Transform Phase Started\")\n",
    "df = transform(df)\n",
    "log(\"Data Transform Phase Ended\")\n",
    "log(\"Data Load Phase Started\")\n",
    "load(df, processed_df_path)\n",
    "log(\"Data Load Phase Ended\")\n",
    "```\n",
    "\"\"\", sizing_mode='scale_width')))"
   ]
  },
  {
   "cell_type": "code",
   "execution_count": null,
   "metadata": {
    "slideshow": {
     "slide_type": "skip"
    },
    "tags": []
   },
   "outputs": [],
   "source": [
    "tech_report.append(pn.Row(pn.pane.Markdown('###Exploratory Data Analysis</h3>', sizing_mode='scale_width')))"
   ]
  },
  {
   "cell_type": "code",
   "execution_count": null,
   "metadata": {
    "slideshow": {
     "slide_type": "skip"
    },
    "tags": []
   },
   "outputs": [],
   "source": [
    "tech_report.append(pn.Row(pn.pane.Markdown('**Descriptive Analysis Of Numerical Fields (Table 1)**', sizing_mode='scale_width')))"
   ]
  },
  {
   "cell_type": "code",
   "execution_count": null,
   "metadata": {
    "slideshow": {
     "slide_type": "skip"
    },
    "tags": []
   },
   "outputs": [],
   "source": [
    "tech_report.append(pn.pane.DataFrame(desc_num(df, \"member_casual\", nums).head(10), sizing_mode='scale_width'))"
   ]
  },
  {
   "cell_type": "code",
   "execution_count": null,
   "metadata": {
    "slideshow": {
     "slide_type": "skip"
    },
    "tags": []
   },
   "outputs": [],
   "source": [
    "tech_report.append(pn.Row(pn.pane.Markdown('**Descriptive Analysis Of Categorical Fields (Table 2)**', sizing_mode='scale_width')))"
   ]
  },
  {
   "cell_type": "code",
   "execution_count": null,
   "metadata": {
    "slideshow": {
     "slide_type": "skip"
    },
    "tags": []
   },
   "outputs": [],
   "source": [
    "tech_report.append(pn.pane.DataFrame(desc_cat(df, \"member_casual\", cats).head(4), sizing_mode='scale_width'))"
   ]
  },
  {
   "cell_type": "code",
   "execution_count": null,
   "metadata": {
    "slideshow": {
     "slide_type": "skip"
    },
    "tags": []
   },
   "outputs": [],
   "source": [
    "tech_report.append(pn.Row(pn.pane.Markdown('**Visual Comparasion Of Numerical Fields Based On Membership (Graph 1)**', sizing_mode='scale_width')))"
   ]
  },
  {
   "cell_type": "code",
   "execution_count": null,
   "metadata": {
    "slideshow": {
     "slide_type": "skip"
    },
    "tags": []
   },
   "outputs": [],
   "source": [
    "tech_report.append(nums_col)"
   ]
  },
  {
   "cell_type": "code",
   "execution_count": null,
   "metadata": {
    "slideshow": {
     "slide_type": "skip"
    },
    "tags": []
   },
   "outputs": [],
   "source": [
    "tech_report.append(pn.Row(pn.pane.Markdown('**Visual Comparasion Of Categorical Fields Based On Membership (Graph 2)**', sizing_mode='scale_width')))"
   ]
  },
  {
   "cell_type": "code",
   "execution_count": null,
   "metadata": {
    "slideshow": {
     "slide_type": "skip"
    },
    "tags": []
   },
   "outputs": [],
   "source": [
    "tech_report.append(cats_col)"
   ]
  },
  {
   "cell_type": "code",
   "execution_count": null,
   "metadata": {
    "slideshow": {
     "slide_type": "skip"
    },
    "tags": []
   },
   "outputs": [],
   "source": [
    "tech_report.append(pn.Row(pn.pane.Markdown('**Trends of Rides For Members (Graph 3)**', sizing_mode='scale_width')))"
   ]
  },
  {
   "cell_type": "code",
   "execution_count": null,
   "metadata": {
    "slideshow": {
     "slide_type": "skip"
    },
    "tags": []
   },
   "outputs": [],
   "source": [
    "tech_report.append(pn.Row(mcurve, member_heat_cal, sizing_mode='scale_width'))"
   ]
  },
  {
   "cell_type": "code",
   "execution_count": null,
   "metadata": {
    "slideshow": {
     "slide_type": "skip"
    },
    "tags": []
   },
   "outputs": [],
   "source": [
    "tech_report.append(pn.Row(pn.pane.Markdown('**Trends of Rides for Casuals (Graph 4)**', sizing_mode='scale_width')))"
   ]
  },
  {
   "cell_type": "code",
   "execution_count": null,
   "metadata": {
    "slideshow": {
     "slide_type": "skip"
    },
    "tags": []
   },
   "outputs": [],
   "source": [
    "tech_report.append(pn.Row(ccurve, casual_heat_cal,sizing_mode='scale_width'))"
   ]
  },
  {
   "cell_type": "code",
   "execution_count": null,
   "metadata": {
    "slideshow": {
     "slide_type": "skip"
    },
    "tags": []
   },
   "outputs": [],
   "source": [
    "tech_report.append(pn.Row(pn.pane.Markdown('**HeatMap Of Members Rides In Chicago Suburbs (Graph 5)**', sizing_mode='scale_width')))"
   ]
  },
  {
   "cell_type": "code",
   "execution_count": null,
   "metadata": {
    "slideshow": {
     "slide_type": "skip"
    },
    "tags": []
   },
   "outputs": [],
   "source": [
    "tech_report.append(pn.panel(mstart, height = 600, sizing_mode='scale_both'))"
   ]
  },
  {
   "cell_type": "code",
   "execution_count": null,
   "metadata": {
    "slideshow": {
     "slide_type": "skip"
    },
    "tags": []
   },
   "outputs": [],
   "source": [
    "tech_report.append(pn.Row(pn.pane.Markdown('**HeatMap Of Casuals Rides In Chicago Suburbs (Graph 6)**', sizing_mode='scale_width')))"
   ]
  },
  {
   "cell_type": "code",
   "execution_count": null,
   "metadata": {
    "slideshow": {
     "slide_type": "skip"
    },
    "tags": []
   },
   "outputs": [],
   "source": [
    "tech_report.append(pn.panel(cstart,  height = 600, sizing_mode='scale_both'))"
   ]
  },
  {
   "cell_type": "code",
   "execution_count": null,
   "metadata": {
    "slideshow": {
     "slide_type": "skip"
    },
    "tags": []
   },
   "outputs": [],
   "source": [
    "tech_report.append(pn.Row(pn.pane.Markdown('### Key Findings', sizing_mode='scale_width')))"
   ]
  },
  {
   "cell_type": "code",
   "execution_count": null,
   "metadata": {
    "slideshow": {
     "slide_type": "skip"
    },
    "tags": []
   },
   "outputs": [],
   "source": [
    "tech_report.append(pn.Row(pn.pane.Markdown('''\n",
    "**Table 1 Key Findings:**  \n",
    "    - Farthest distance traveled by both categories is 32km (20 Miles) and they have a similar average of 2km (1.25 Miles)  \n",
    "    - Members tend to ride for shorter periods in general, nearly half the time when compared to casual rides  \n",
    "    - Members ride faster than the casual customer most of the time\n",
    "\n",
    "**Table 2 Key Findings:**  \n",
    "    - Members prefer the classic bike, whereas the casual riders enjoy the options of bikes almost equally.  \n",
    "    - Summer is the in-demand season for bikes while in winter bikes are less used significantly  \n",
    "    - Members ride more on the weekend days while casual enjoy the rides any day of the week  \n",
    "    - Afternoon is the period of the day with high usage of bikes for both categories, but members take almost twice the rides when compared to casuals during the morning time\n",
    "\n",
    "**Graph 3 Key Findings:**  \n",
    "    - Most of the rides are happening during the summer and fall for members\n",
    "\n",
    "**Graph 4 Key Findings:**  \n",
    "    - Most of the rides are happening during the summer and fall for casual riders too, with Saturday being with the most rides during the week notably\n",
    "\n",
    "**Graph 5 Key Findings:**  \n",
    "    - Near North Side Suburb is the most visited area in Chicago by members  \n",
    "    - Lincoln Park and Lake View areas come as the second choice for the members  \n",
    "    - Loop, Near West Side, and West Town are considering popular destinations for the members  \n",
    "    - Members mostly do not ride to the outskirts of the city\n",
    "\n",
    "**Graph 6 Key Findings:**  \n",
    "    - Near North Side Suburb is the most visited area in Chicago by casuals too  \n",
    "    - Loop and Lincoln Park areas come as the second choice for the casuals  \n",
    "    - Lake View comes as the third choice for the casuals  \n",
    "    - Near West Side and West Town are considered popular destinations for the casuals too  \n",
    "    - Members mostly do not ride to the outskirts of the city too  \n",
    "''', sizing_mode='scale_width')))"
   ]
  },
  {
   "cell_type": "code",
   "execution_count": null,
   "metadata": {
    "slideshow": {
     "slide_type": "skip"
    },
    "tags": []
   },
   "outputs": [],
   "source": [
    "tech_report.append(pn.Row(pn.pane.Markdown('### Recommendations', sizing_mode='scale_width')))"
   ]
  },
  {
   "cell_type": "code",
   "execution_count": null,
   "metadata": {
    "slideshow": {
     "slide_type": "skip"
    },
    "tags": []
   },
   "outputs": [],
   "source": [
    "tech_report.append(pn.Row(pn.pane.Markdown('''\n",
    "My three recommendations for the new marketing strategy are as follows:  \n",
    "1. Time-Related Recommendation: ensuring the demand for bicycles are met and having availability also during peak times:  \n",
    "    - Morning and afternoon for the day  \n",
    "    - Weekends for the week  \n",
    "    - Summer and fall for the year  \n",
    "2. Location Related Recommendation: 6 Chicago suburbs being the most visited by riders, in those suburbs where the offering of bikes and advertisement should take place:  \n",
    "    - Near North Side  \n",
    "    - Lincoln Park  \n",
    "    - Lake View  \n",
    "    - Loop  \n",
    "    - Near West Side  \n",
    "    - West Town  \n",
    "3. Equipment Related Recommendation: since the members tend to use the bicycles for shorters period and faster travel times, introducing more electric bikes with better mileage and higher speed for members will keep the current members happy and spark interest for casual who need quick rides, not to forget it is less physical,environment friendly and also can help in having more riders to explore the other suburbs of the city\n",
    "''', sizing_mode='scale_width')))"
   ]
  },
  {
   "cell_type": "code",
   "execution_count": null,
   "metadata": {},
   "outputs": [],
   "source": [
    "data_files = pn.Column()"
   ]
  },
  {
   "cell_type": "code",
   "execution_count": null,
   "metadata": {},
   "outputs": [],
   "source": [
    "data_files.append(pn.widgets.FileDownload(file=processed_df_path, filename='data.csv'))\n",
    "data_files.append(pn.widgets.FileDownload(file=sql_path, filename='queris.sql'))\n",
    "data_files.append(pn.widgets.FileDownload(file=chicago_map, filename='chicago_map.geojson'))\n",
    "data_files.append(pn.widgets.FileDownload(file=slides_file, filename='slides.html'))"
   ]
  },
  {
   "cell_type": "code",
   "execution_count": null,
   "metadata": {},
   "outputs": [],
   "source": [
    "code_preview = pn.Column()\n",
    "code_preview.append(pn.widgets.FileDownload(file='apps/Data_Analysis.ipynb', filename='Code.ipynb'))"
   ]
  },
  {
   "cell_type": "code",
   "execution_count": null,
   "metadata": {
    "slideshow": {
     "slide_type": "skip"
    },
    "tags": []
   },
   "outputs": [],
   "source": [
    "layout = pn.Tabs(('Summary Report', html_pane), ('Dashboard', dashboard),\n",
    "                 ('Technical Report', tech_report), ('Code', code_preview),\n",
    "                 ('Data', data_files), sizing_mode='scale_width')\n",
    "layout.servable()"
   ]
  }
 ],
 "metadata": {
  "kernelspec": {
   "display_name": "Python 3",
   "language": "python",
   "name": "python3"
  },
  "language_info": {
   "codemirror_mode": {
    "name": "ipython",
    "version": 3
   },
   "file_extension": ".py",
   "mimetype": "text/x-python",
   "name": "python",
   "nbconvert_exporter": "python",
   "pygments_lexer": "ipython3",
   "version": "3.9.9"
  }
 },
 "nbformat": 4,
 "nbformat_minor": 4
}
